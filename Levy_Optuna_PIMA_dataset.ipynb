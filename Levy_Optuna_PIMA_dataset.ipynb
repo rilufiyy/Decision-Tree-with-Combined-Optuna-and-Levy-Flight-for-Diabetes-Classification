{
  "nbformat": 4,
  "nbformat_minor": 0,
  "metadata": {
    "colab": {
      "provenance": []
    },
    "kernelspec": {
      "name": "python3",
      "display_name": "Python 3"
    },
    "language_info": {
      "name": "python"
    }
  },
  "cells": [
    {
      "cell_type": "code",
      "source": [
        "pip install optuna"
      ],
      "metadata": {
        "colab": {
          "base_uri": "https://localhost:8080/"
        },
        "id": "DcbLlMh3EQRQ",
        "outputId": "663fa496-16f2-49e1-89c8-5166119b5d46"
      },
      "execution_count": null,
      "outputs": [
        {
          "output_type": "stream",
          "name": "stdout",
          "text": [
            "Requirement already satisfied: optuna in /usr/local/lib/python3.11/dist-packages (4.4.0)\n",
            "Requirement already satisfied: alembic>=1.5.0 in /usr/local/lib/python3.11/dist-packages (from optuna) (1.16.4)\n",
            "Requirement already satisfied: colorlog in /usr/local/lib/python3.11/dist-packages (from optuna) (6.9.0)\n",
            "Requirement already satisfied: numpy in /usr/local/lib/python3.11/dist-packages (from optuna) (2.0.2)\n",
            "Requirement already satisfied: packaging>=20.0 in /usr/local/lib/python3.11/dist-packages (from optuna) (25.0)\n",
            "Requirement already satisfied: sqlalchemy>=1.4.2 in /usr/local/lib/python3.11/dist-packages (from optuna) (2.0.41)\n",
            "Requirement already satisfied: tqdm in /usr/local/lib/python3.11/dist-packages (from optuna) (4.67.1)\n",
            "Requirement already satisfied: PyYAML in /usr/local/lib/python3.11/dist-packages (from optuna) (6.0.2)\n",
            "Requirement already satisfied: Mako in /usr/lib/python3/dist-packages (from alembic>=1.5.0->optuna) (1.1.3)\n",
            "Requirement already satisfied: typing-extensions>=4.12 in /usr/local/lib/python3.11/dist-packages (from alembic>=1.5.0->optuna) (4.14.1)\n",
            "Requirement already satisfied: greenlet>=1 in /usr/local/lib/python3.11/dist-packages (from sqlalchemy>=1.4.2->optuna) (3.2.3)\n"
          ]
        }
      ]
    },
    {
      "cell_type": "code",
      "source": [
        "import warnings\n",
        "warnings.filterwarnings(\"ignore\")"
      ],
      "metadata": {
        "id": "s-ShhlLMEkhg"
      },
      "execution_count": null,
      "outputs": []
    },
    {
      "cell_type": "markdown",
      "source": [
        "# Load Dataset Pima Diabetes"
      ],
      "metadata": {
        "id": "W-e5wxPPRVB_"
      }
    },
    {
      "cell_type": "code",
      "source": [
        "import pandas as pd\n",
        "import seaborn as sns\n",
        "import matplotlib.pyplot as plt\n",
        "\n",
        "from sklearn.model_selection import train_test_split, cross_val_score\n",
        "from sklearn.tree import DecisionTreeRegressor\n",
        "from sklearn.metrics import mean_absolute_error, mean_squared_error, r2_score\n",
        "\n",
        "import optuna"
      ],
      "metadata": {
        "id": "nD_Je3zHNlW5"
      },
      "execution_count": null,
      "outputs": []
    },
    {
      "cell_type": "code",
      "source": [
        "import numpy as np\n",
        "import pandas as pd\n",
        "import matplotlib.pyplot as plt\n",
        "import warnings\n",
        "from sklearn.exceptions import ConvergenceWarning\n",
        "\n",
        "# URL dataset di GitHub (gunakan raw link)\n",
        "url = \"https://raw.githubusercontent.com/rilufiyy/GWO-with-Levy-Flight---Pima-Diabetes/main/diabetes.csv\"\n",
        "\n",
        "# Tampilkan\n",
        "df = pd.read_csv(url)\n",
        "df.head()"
      ],
      "metadata": {
        "colab": {
          "base_uri": "https://localhost:8080/",
          "height": 206
        },
        "id": "ZIjWwFbZRZIH",
        "outputId": "0bc5ca62-d3f4-4727-ee61-58c2527010ee"
      },
      "execution_count": null,
      "outputs": [
        {
          "output_type": "execute_result",
          "data": {
            "text/plain": [
              "   Pregnancies  Glucose  BloodPressure  SkinThickness  Insulin   BMI  \\\n",
              "0            6      148             72             35        0  33.6   \n",
              "1            1       85             66             29        0  26.6   \n",
              "2            8      183             64              0        0  23.3   \n",
              "3            1       89             66             23       94  28.1   \n",
              "4            0      137             40             35      168  43.1   \n",
              "\n",
              "   DiabetesPedigreeFunction  Age  Outcome  \n",
              "0                     0.627   50        1  \n",
              "1                     0.351   31        0  \n",
              "2                     0.672   32        1  \n",
              "3                     0.167   21        0  \n",
              "4                     2.288   33        1  "
            ],
            "text/html": [
              "\n",
              "  <div id=\"df-e5e3fdba-e3ab-4077-96c0-1ac28871ca35\" class=\"colab-df-container\">\n",
              "    <div>\n",
              "<style scoped>\n",
              "    .dataframe tbody tr th:only-of-type {\n",
              "        vertical-align: middle;\n",
              "    }\n",
              "\n",
              "    .dataframe tbody tr th {\n",
              "        vertical-align: top;\n",
              "    }\n",
              "\n",
              "    .dataframe thead th {\n",
              "        text-align: right;\n",
              "    }\n",
              "</style>\n",
              "<table border=\"1\" class=\"dataframe\">\n",
              "  <thead>\n",
              "    <tr style=\"text-align: right;\">\n",
              "      <th></th>\n",
              "      <th>Pregnancies</th>\n",
              "      <th>Glucose</th>\n",
              "      <th>BloodPressure</th>\n",
              "      <th>SkinThickness</th>\n",
              "      <th>Insulin</th>\n",
              "      <th>BMI</th>\n",
              "      <th>DiabetesPedigreeFunction</th>\n",
              "      <th>Age</th>\n",
              "      <th>Outcome</th>\n",
              "    </tr>\n",
              "  </thead>\n",
              "  <tbody>\n",
              "    <tr>\n",
              "      <th>0</th>\n",
              "      <td>6</td>\n",
              "      <td>148</td>\n",
              "      <td>72</td>\n",
              "      <td>35</td>\n",
              "      <td>0</td>\n",
              "      <td>33.6</td>\n",
              "      <td>0.627</td>\n",
              "      <td>50</td>\n",
              "      <td>1</td>\n",
              "    </tr>\n",
              "    <tr>\n",
              "      <th>1</th>\n",
              "      <td>1</td>\n",
              "      <td>85</td>\n",
              "      <td>66</td>\n",
              "      <td>29</td>\n",
              "      <td>0</td>\n",
              "      <td>26.6</td>\n",
              "      <td>0.351</td>\n",
              "      <td>31</td>\n",
              "      <td>0</td>\n",
              "    </tr>\n",
              "    <tr>\n",
              "      <th>2</th>\n",
              "      <td>8</td>\n",
              "      <td>183</td>\n",
              "      <td>64</td>\n",
              "      <td>0</td>\n",
              "      <td>0</td>\n",
              "      <td>23.3</td>\n",
              "      <td>0.672</td>\n",
              "      <td>32</td>\n",
              "      <td>1</td>\n",
              "    </tr>\n",
              "    <tr>\n",
              "      <th>3</th>\n",
              "      <td>1</td>\n",
              "      <td>89</td>\n",
              "      <td>66</td>\n",
              "      <td>23</td>\n",
              "      <td>94</td>\n",
              "      <td>28.1</td>\n",
              "      <td>0.167</td>\n",
              "      <td>21</td>\n",
              "      <td>0</td>\n",
              "    </tr>\n",
              "    <tr>\n",
              "      <th>4</th>\n",
              "      <td>0</td>\n",
              "      <td>137</td>\n",
              "      <td>40</td>\n",
              "      <td>35</td>\n",
              "      <td>168</td>\n",
              "      <td>43.1</td>\n",
              "      <td>2.288</td>\n",
              "      <td>33</td>\n",
              "      <td>1</td>\n",
              "    </tr>\n",
              "  </tbody>\n",
              "</table>\n",
              "</div>\n",
              "    <div class=\"colab-df-buttons\">\n",
              "\n",
              "  <div class=\"colab-df-container\">\n",
              "    <button class=\"colab-df-convert\" onclick=\"convertToInteractive('df-e5e3fdba-e3ab-4077-96c0-1ac28871ca35')\"\n",
              "            title=\"Convert this dataframe to an interactive table.\"\n",
              "            style=\"display:none;\">\n",
              "\n",
              "  <svg xmlns=\"http://www.w3.org/2000/svg\" height=\"24px\" viewBox=\"0 -960 960 960\">\n",
              "    <path d=\"M120-120v-720h720v720H120Zm60-500h600v-160H180v160Zm220 220h160v-160H400v160Zm0 220h160v-160H400v160ZM180-400h160v-160H180v160Zm440 0h160v-160H620v160ZM180-180h160v-160H180v160Zm440 0h160v-160H620v160Z\"/>\n",
              "  </svg>\n",
              "    </button>\n",
              "\n",
              "  <style>\n",
              "    .colab-df-container {\n",
              "      display:flex;\n",
              "      gap: 12px;\n",
              "    }\n",
              "\n",
              "    .colab-df-convert {\n",
              "      background-color: #E8F0FE;\n",
              "      border: none;\n",
              "      border-radius: 50%;\n",
              "      cursor: pointer;\n",
              "      display: none;\n",
              "      fill: #1967D2;\n",
              "      height: 32px;\n",
              "      padding: 0 0 0 0;\n",
              "      width: 32px;\n",
              "    }\n",
              "\n",
              "    .colab-df-convert:hover {\n",
              "      background-color: #E2EBFA;\n",
              "      box-shadow: 0px 1px 2px rgba(60, 64, 67, 0.3), 0px 1px 3px 1px rgba(60, 64, 67, 0.15);\n",
              "      fill: #174EA6;\n",
              "    }\n",
              "\n",
              "    .colab-df-buttons div {\n",
              "      margin-bottom: 4px;\n",
              "    }\n",
              "\n",
              "    [theme=dark] .colab-df-convert {\n",
              "      background-color: #3B4455;\n",
              "      fill: #D2E3FC;\n",
              "    }\n",
              "\n",
              "    [theme=dark] .colab-df-convert:hover {\n",
              "      background-color: #434B5C;\n",
              "      box-shadow: 0px 1px 3px 1px rgba(0, 0, 0, 0.15);\n",
              "      filter: drop-shadow(0px 1px 2px rgba(0, 0, 0, 0.3));\n",
              "      fill: #FFFFFF;\n",
              "    }\n",
              "  </style>\n",
              "\n",
              "    <script>\n",
              "      const buttonEl =\n",
              "        document.querySelector('#df-e5e3fdba-e3ab-4077-96c0-1ac28871ca35 button.colab-df-convert');\n",
              "      buttonEl.style.display =\n",
              "        google.colab.kernel.accessAllowed ? 'block' : 'none';\n",
              "\n",
              "      async function convertToInteractive(key) {\n",
              "        const element = document.querySelector('#df-e5e3fdba-e3ab-4077-96c0-1ac28871ca35');\n",
              "        const dataTable =\n",
              "          await google.colab.kernel.invokeFunction('convertToInteractive',\n",
              "                                                    [key], {});\n",
              "        if (!dataTable) return;\n",
              "\n",
              "        const docLinkHtml = 'Like what you see? Visit the ' +\n",
              "          '<a target=\"_blank\" href=https://colab.research.google.com/notebooks/data_table.ipynb>data table notebook</a>'\n",
              "          + ' to learn more about interactive tables.';\n",
              "        element.innerHTML = '';\n",
              "        dataTable['output_type'] = 'display_data';\n",
              "        await google.colab.output.renderOutput(dataTable, element);\n",
              "        const docLink = document.createElement('div');\n",
              "        docLink.innerHTML = docLinkHtml;\n",
              "        element.appendChild(docLink);\n",
              "      }\n",
              "    </script>\n",
              "  </div>\n",
              "\n",
              "\n",
              "    <div id=\"df-9a0077b3-8829-42fa-97a7-75f86421ee60\">\n",
              "      <button class=\"colab-df-quickchart\" onclick=\"quickchart('df-9a0077b3-8829-42fa-97a7-75f86421ee60')\"\n",
              "                title=\"Suggest charts\"\n",
              "                style=\"display:none;\">\n",
              "\n",
              "<svg xmlns=\"http://www.w3.org/2000/svg\" height=\"24px\"viewBox=\"0 0 24 24\"\n",
              "     width=\"24px\">\n",
              "    <g>\n",
              "        <path d=\"M19 3H5c-1.1 0-2 .9-2 2v14c0 1.1.9 2 2 2h14c1.1 0 2-.9 2-2V5c0-1.1-.9-2-2-2zM9 17H7v-7h2v7zm4 0h-2V7h2v10zm4 0h-2v-4h2v4z\"/>\n",
              "    </g>\n",
              "</svg>\n",
              "      </button>\n",
              "\n",
              "<style>\n",
              "  .colab-df-quickchart {\n",
              "      --bg-color: #E8F0FE;\n",
              "      --fill-color: #1967D2;\n",
              "      --hover-bg-color: #E2EBFA;\n",
              "      --hover-fill-color: #174EA6;\n",
              "      --disabled-fill-color: #AAA;\n",
              "      --disabled-bg-color: #DDD;\n",
              "  }\n",
              "\n",
              "  [theme=dark] .colab-df-quickchart {\n",
              "      --bg-color: #3B4455;\n",
              "      --fill-color: #D2E3FC;\n",
              "      --hover-bg-color: #434B5C;\n",
              "      --hover-fill-color: #FFFFFF;\n",
              "      --disabled-bg-color: #3B4455;\n",
              "      --disabled-fill-color: #666;\n",
              "  }\n",
              "\n",
              "  .colab-df-quickchart {\n",
              "    background-color: var(--bg-color);\n",
              "    border: none;\n",
              "    border-radius: 50%;\n",
              "    cursor: pointer;\n",
              "    display: none;\n",
              "    fill: var(--fill-color);\n",
              "    height: 32px;\n",
              "    padding: 0;\n",
              "    width: 32px;\n",
              "  }\n",
              "\n",
              "  .colab-df-quickchart:hover {\n",
              "    background-color: var(--hover-bg-color);\n",
              "    box-shadow: 0 1px 2px rgba(60, 64, 67, 0.3), 0 1px 3px 1px rgba(60, 64, 67, 0.15);\n",
              "    fill: var(--button-hover-fill-color);\n",
              "  }\n",
              "\n",
              "  .colab-df-quickchart-complete:disabled,\n",
              "  .colab-df-quickchart-complete:disabled:hover {\n",
              "    background-color: var(--disabled-bg-color);\n",
              "    fill: var(--disabled-fill-color);\n",
              "    box-shadow: none;\n",
              "  }\n",
              "\n",
              "  .colab-df-spinner {\n",
              "    border: 2px solid var(--fill-color);\n",
              "    border-color: transparent;\n",
              "    border-bottom-color: var(--fill-color);\n",
              "    animation:\n",
              "      spin 1s steps(1) infinite;\n",
              "  }\n",
              "\n",
              "  @keyframes spin {\n",
              "    0% {\n",
              "      border-color: transparent;\n",
              "      border-bottom-color: var(--fill-color);\n",
              "      border-left-color: var(--fill-color);\n",
              "    }\n",
              "    20% {\n",
              "      border-color: transparent;\n",
              "      border-left-color: var(--fill-color);\n",
              "      border-top-color: var(--fill-color);\n",
              "    }\n",
              "    30% {\n",
              "      border-color: transparent;\n",
              "      border-left-color: var(--fill-color);\n",
              "      border-top-color: var(--fill-color);\n",
              "      border-right-color: var(--fill-color);\n",
              "    }\n",
              "    40% {\n",
              "      border-color: transparent;\n",
              "      border-right-color: var(--fill-color);\n",
              "      border-top-color: var(--fill-color);\n",
              "    }\n",
              "    60% {\n",
              "      border-color: transparent;\n",
              "      border-right-color: var(--fill-color);\n",
              "    }\n",
              "    80% {\n",
              "      border-color: transparent;\n",
              "      border-right-color: var(--fill-color);\n",
              "      border-bottom-color: var(--fill-color);\n",
              "    }\n",
              "    90% {\n",
              "      border-color: transparent;\n",
              "      border-bottom-color: var(--fill-color);\n",
              "    }\n",
              "  }\n",
              "</style>\n",
              "\n",
              "      <script>\n",
              "        async function quickchart(key) {\n",
              "          const quickchartButtonEl =\n",
              "            document.querySelector('#' + key + ' button');\n",
              "          quickchartButtonEl.disabled = true;  // To prevent multiple clicks.\n",
              "          quickchartButtonEl.classList.add('colab-df-spinner');\n",
              "          try {\n",
              "            const charts = await google.colab.kernel.invokeFunction(\n",
              "                'suggestCharts', [key], {});\n",
              "          } catch (error) {\n",
              "            console.error('Error during call to suggestCharts:', error);\n",
              "          }\n",
              "          quickchartButtonEl.classList.remove('colab-df-spinner');\n",
              "          quickchartButtonEl.classList.add('colab-df-quickchart-complete');\n",
              "        }\n",
              "        (() => {\n",
              "          let quickchartButtonEl =\n",
              "            document.querySelector('#df-9a0077b3-8829-42fa-97a7-75f86421ee60 button');\n",
              "          quickchartButtonEl.style.display =\n",
              "            google.colab.kernel.accessAllowed ? 'block' : 'none';\n",
              "        })();\n",
              "      </script>\n",
              "    </div>\n",
              "\n",
              "    </div>\n",
              "  </div>\n"
            ],
            "application/vnd.google.colaboratory.intrinsic+json": {
              "type": "dataframe",
              "variable_name": "df",
              "summary": "{\n  \"name\": \"df\",\n  \"rows\": 768,\n  \"fields\": [\n    {\n      \"column\": \"Pregnancies\",\n      \"properties\": {\n        \"dtype\": \"number\",\n        \"std\": 3,\n        \"min\": 0,\n        \"max\": 17,\n        \"num_unique_values\": 17,\n        \"samples\": [\n          6,\n          1,\n          3\n        ],\n        \"semantic_type\": \"\",\n        \"description\": \"\"\n      }\n    },\n    {\n      \"column\": \"Glucose\",\n      \"properties\": {\n        \"dtype\": \"number\",\n        \"std\": 31,\n        \"min\": 0,\n        \"max\": 199,\n        \"num_unique_values\": 136,\n        \"samples\": [\n          151,\n          101,\n          112\n        ],\n        \"semantic_type\": \"\",\n        \"description\": \"\"\n      }\n    },\n    {\n      \"column\": \"BloodPressure\",\n      \"properties\": {\n        \"dtype\": \"number\",\n        \"std\": 19,\n        \"min\": 0,\n        \"max\": 122,\n        \"num_unique_values\": 47,\n        \"samples\": [\n          86,\n          46,\n          85\n        ],\n        \"semantic_type\": \"\",\n        \"description\": \"\"\n      }\n    },\n    {\n      \"column\": \"SkinThickness\",\n      \"properties\": {\n        \"dtype\": \"number\",\n        \"std\": 15,\n        \"min\": 0,\n        \"max\": 99,\n        \"num_unique_values\": 51,\n        \"samples\": [\n          7,\n          12,\n          48\n        ],\n        \"semantic_type\": \"\",\n        \"description\": \"\"\n      }\n    },\n    {\n      \"column\": \"Insulin\",\n      \"properties\": {\n        \"dtype\": \"number\",\n        \"std\": 115,\n        \"min\": 0,\n        \"max\": 846,\n        \"num_unique_values\": 186,\n        \"samples\": [\n          52,\n          41,\n          183\n        ],\n        \"semantic_type\": \"\",\n        \"description\": \"\"\n      }\n    },\n    {\n      \"column\": \"BMI\",\n      \"properties\": {\n        \"dtype\": \"number\",\n        \"std\": 7.8841603203754405,\n        \"min\": 0.0,\n        \"max\": 67.1,\n        \"num_unique_values\": 248,\n        \"samples\": [\n          19.9,\n          31.0,\n          38.1\n        ],\n        \"semantic_type\": \"\",\n        \"description\": \"\"\n      }\n    },\n    {\n      \"column\": \"DiabetesPedigreeFunction\",\n      \"properties\": {\n        \"dtype\": \"number\",\n        \"std\": 0.33132859501277484,\n        \"min\": 0.078,\n        \"max\": 2.42,\n        \"num_unique_values\": 517,\n        \"samples\": [\n          1.731,\n          0.426,\n          0.138\n        ],\n        \"semantic_type\": \"\",\n        \"description\": \"\"\n      }\n    },\n    {\n      \"column\": \"Age\",\n      \"properties\": {\n        \"dtype\": \"number\",\n        \"std\": 11,\n        \"min\": 21,\n        \"max\": 81,\n        \"num_unique_values\": 52,\n        \"samples\": [\n          60,\n          47,\n          72\n        ],\n        \"semantic_type\": \"\",\n        \"description\": \"\"\n      }\n    },\n    {\n      \"column\": \"Outcome\",\n      \"properties\": {\n        \"dtype\": \"number\",\n        \"std\": 0,\n        \"min\": 0,\n        \"max\": 1,\n        \"num_unique_values\": 2,\n        \"samples\": [\n          0,\n          1\n        ],\n        \"semantic_type\": \"\",\n        \"description\": \"\"\n      }\n    }\n  ]\n}"
            }
          },
          "metadata": {},
          "execution_count": 4
        }
      ]
    },
    {
      "cell_type": "code",
      "source": [
        "import numpy as np\n",
        "\n",
        "# Ganti nilai 0 pada kolom Glucose, BloodPressure, SkinThickness, Insulin, BMI menjadi NaN\n",
        "cols_with_invalid_zeros = ['Glucose', 'BloodPressure', 'SkinThickness', 'Insulin', 'BMI']\n",
        "df[cols_with_invalid_zeros] = df[cols_with_invalid_zeros].replace(0, np.nan)"
      ],
      "metadata": {
        "id": "cOxrkjq1RhCR"
      },
      "execution_count": null,
      "outputs": []
    },
    {
      "cell_type": "code",
      "source": [
        "# Cek Apakah ada missing value pada dataset\n",
        "missing_value = df.isnull().sum()\n",
        "print(missing_value)"
      ],
      "metadata": {
        "colab": {
          "base_uri": "https://localhost:8080/"
        },
        "id": "i_bGsP-hR6tx",
        "outputId": "12173428-2868-40af-e2d1-f46c1e853688"
      },
      "execution_count": null,
      "outputs": [
        {
          "output_type": "stream",
          "name": "stdout",
          "text": [
            "Pregnancies                   0\n",
            "Glucose                       5\n",
            "BloodPressure                35\n",
            "SkinThickness               227\n",
            "Insulin                     374\n",
            "BMI                          11\n",
            "DiabetesPedigreeFunction      0\n",
            "Age                           0\n",
            "Outcome                       0\n",
            "dtype: int64\n"
          ]
        }
      ]
    },
    {
      "cell_type": "code",
      "source": [
        "# Buat variabel dataframe yang dibersihkan\n",
        "df_cleaned = df.copy()\n",
        "\n",
        "# Imputasi nilai tidak valid (nan) sesuai distribusi data\n",
        "df_cleaned['Glucose'].fillna(df_cleaned['Glucose'].mean(), inplace = True)\n",
        "df_cleaned['BloodPressure'].fillna(df_cleaned['BloodPressure'].mean(), inplace = True)\n",
        "df_cleaned['SkinThickness'].fillna(df_cleaned['SkinThickness'].median(), inplace = True)\n",
        "df_cleaned['Insulin'].fillna(df_cleaned['Insulin'].median(), inplace = True)\n",
        "df_cleaned['BMI'].fillna(df_cleaned['BMI'].median(), inplace = True)"
      ],
      "metadata": {
        "id": "sSFA_XPYR6xP"
      },
      "execution_count": null,
      "outputs": []
    },
    {
      "cell_type": "code",
      "source": [
        "df_cleaned.info()"
      ],
      "metadata": {
        "colab": {
          "base_uri": "https://localhost:8080/"
        },
        "id": "3CRv8Ts-SCYS",
        "outputId": "27fd696a-0383-4649-d5dc-cc723b9605f3"
      },
      "execution_count": null,
      "outputs": [
        {
          "output_type": "stream",
          "name": "stdout",
          "text": [
            "<class 'pandas.core.frame.DataFrame'>\n",
            "RangeIndex: 768 entries, 0 to 767\n",
            "Data columns (total 9 columns):\n",
            " #   Column                    Non-Null Count  Dtype  \n",
            "---  ------                    --------------  -----  \n",
            " 0   Pregnancies               768 non-null    int64  \n",
            " 1   Glucose                   768 non-null    float64\n",
            " 2   BloodPressure             768 non-null    float64\n",
            " 3   SkinThickness             768 non-null    float64\n",
            " 4   Insulin                   768 non-null    float64\n",
            " 5   BMI                       768 non-null    float64\n",
            " 6   DiabetesPedigreeFunction  768 non-null    float64\n",
            " 7   Age                       768 non-null    int64  \n",
            " 8   Outcome                   768 non-null    int64  \n",
            "dtypes: float64(6), int64(3)\n",
            "memory usage: 54.1 KB\n"
          ]
        }
      ]
    },
    {
      "cell_type": "markdown",
      "source": [
        "# Splitting Data"
      ],
      "metadata": {
        "id": "ocR1exwNRJXG"
      }
    },
    {
      "cell_type": "code",
      "source": [
        "X = df_cleaned.drop('Outcome', axis=1)\n",
        "y = df_cleaned['Outcome']"
      ],
      "metadata": {
        "id": "EdaSpIJaSL9N"
      },
      "execution_count": null,
      "outputs": []
    },
    {
      "cell_type": "code",
      "source": [
        "X_train, X_test, y_train, y_test = train_test_split(\n",
        "    X, y,\n",
        "    test_size=0.3,\n",
        "    random_state=42\n",
        ")"
      ],
      "metadata": {
        "id": "rQcXGGDsQZtw"
      },
      "execution_count": null,
      "outputs": []
    },
    {
      "cell_type": "code",
      "source": [
        "# Hitung jumlah data\n",
        "total_data = df_cleaned.shape[0]\n",
        "train_data = X_train.shape[0]\n",
        "test_data = X_test.shape[0]\n",
        "\n",
        "# Hitung persentase\n",
        "train_pct = (train_data / total_data) * 100\n",
        "test_pct = (test_data / total_data) * 100\n",
        "\n",
        "# Tampilkan hasil\n",
        "print(f'Jumlah data awal        : {total_data} baris')\n",
        "print(f'Jumlah data latih       : {train_data} baris ({train_pct:.2f}%)')\n",
        "print(f'Jumlah data uji         : {test_data} baris ({test_pct:.2f}%)')"
      ],
      "metadata": {
        "colab": {
          "base_uri": "https://localhost:8080/"
        },
        "id": "2sCHnrBTRL_u",
        "outputId": "47a24e82-de90-4b4b-c873-72c7bfbe4a68"
      },
      "execution_count": null,
      "outputs": [
        {
          "output_type": "stream",
          "name": "stdout",
          "text": [
            "Jumlah data awal        : 768 baris\n",
            "Jumlah data latih       : 537 baris (69.92%)\n",
            "Jumlah data uji         : 231 baris (30.08%)\n"
          ]
        }
      ]
    },
    {
      "cell_type": "markdown",
      "source": [
        "# Data Scaling"
      ],
      "metadata": {
        "id": "092ewehiSfZy"
      }
    },
    {
      "cell_type": "code",
      "source": [
        "# Scaling data menggunakan MinMaxScaler\n",
        "from sklearn.preprocessing import MinMaxScaler\n",
        "\n",
        "scaler = MinMaxScaler()\n",
        "X_train_scaled = scaler.fit_transform(X_train)\n",
        "X_test_scaled = scaler.transform(X_test)"
      ],
      "metadata": {
        "id": "0xfUj3zuSdT0"
      },
      "execution_count": null,
      "outputs": []
    },
    {
      "cell_type": "markdown",
      "source": [
        "# Data Resampling"
      ],
      "metadata": {
        "id": "aS2cKqOySi65"
      }
    },
    {
      "cell_type": "code",
      "source": [
        "# Cek jumlah outcome pada data latih\n",
        "y_train.value_counts()"
      ],
      "metadata": {
        "colab": {
          "base_uri": "https://localhost:8080/",
          "height": 178
        },
        "id": "yvabtjqLShwu",
        "outputId": "5a9b82e3-cc0b-4227-fe39-9511031931f0"
      },
      "execution_count": null,
      "outputs": [
        {
          "output_type": "execute_result",
          "data": {
            "text/plain": [
              "Outcome\n",
              "0    349\n",
              "1    188\n",
              "Name: count, dtype: int64"
            ],
            "text/html": [
              "<div>\n",
              "<style scoped>\n",
              "    .dataframe tbody tr th:only-of-type {\n",
              "        vertical-align: middle;\n",
              "    }\n",
              "\n",
              "    .dataframe tbody tr th {\n",
              "        vertical-align: top;\n",
              "    }\n",
              "\n",
              "    .dataframe thead th {\n",
              "        text-align: right;\n",
              "    }\n",
              "</style>\n",
              "<table border=\"1\" class=\"dataframe\">\n",
              "  <thead>\n",
              "    <tr style=\"text-align: right;\">\n",
              "      <th></th>\n",
              "      <th>count</th>\n",
              "    </tr>\n",
              "    <tr>\n",
              "      <th>Outcome</th>\n",
              "      <th></th>\n",
              "    </tr>\n",
              "  </thead>\n",
              "  <tbody>\n",
              "    <tr>\n",
              "      <th>0</th>\n",
              "      <td>349</td>\n",
              "    </tr>\n",
              "    <tr>\n",
              "      <th>1</th>\n",
              "      <td>188</td>\n",
              "    </tr>\n",
              "  </tbody>\n",
              "</table>\n",
              "</div><br><label><b>dtype:</b> int64</label>"
            ]
          },
          "metadata": {},
          "execution_count": 13
        }
      ]
    },
    {
      "cell_type": "code",
      "source": [
        "from imblearn.combine import SMOTETomek\n",
        "import pandas as pd\n",
        "import matplotlib.pyplot as plt\n",
        "import seaborn as sns\n",
        "\n",
        "# Tampilkan distribusi kelas sebelum resampling\n",
        "print(\"Distribusi kelas sebelum resampling:\")\n",
        "print(pd.Series(y_train).value_counts())\n",
        "\n",
        "# Lakukan resampling\n",
        "smote_tomek = SMOTETomek(random_state=42)\n",
        "X_train_resampled, y_train_resampled = smote_tomek.fit_resample(X_train_scaled, y_train)\n",
        "\n",
        "# Tampilkan distribusi kelas setelah resampling\n",
        "print(\"\\nDistribusi kelas setelah resampling:\")\n",
        "print(pd.Series(y_train_resampled).value_counts())\n",
        "\n",
        "# Visualisasi distribusi sebelum dan sesudah\n",
        "fig, axes = plt.subplots(1, 2, figsize=(12, 5))\n",
        "sns.set_style(\"whitegrid\")\n",
        "\n",
        "# Sebelum resampling\n",
        "sns.countplot(x=y_train, ax=axes[0], palette=\"pastel\")\n",
        "axes[0].set_title(\"Sebelum Resampling\")\n",
        "axes[0].set_xlabel(\"Kelas\")\n",
        "axes[0].set_ylabel(\"Jumlah\")\n",
        "\n",
        "# Setelah resampling\n",
        "sns.countplot(x=y_train_resampled, ax=axes[1], palette=\"pastel\")\n",
        "axes[1].set_title(\"Setelah Resampling (SMOTE + Tomek)\")\n",
        "axes[1].set_xlabel(\"Kelas\")\n",
        "axes[1].set_ylabel(\"Jumlah\")\n",
        "\n",
        "plt.tight_layout()\n",
        "plt.show()"
      ],
      "metadata": {
        "colab": {
          "base_uri": "https://localhost:8080/",
          "height": 707
        },
        "id": "9un1FDfHSlvu",
        "outputId": "f32be129-b443-4e3d-ddca-e30ac305bedd"
      },
      "execution_count": null,
      "outputs": [
        {
          "output_type": "stream",
          "name": "stdout",
          "text": [
            "Distribusi kelas sebelum resampling:\n",
            "Outcome\n",
            "0    349\n",
            "1    188\n",
            "Name: count, dtype: int64\n",
            "\n",
            "Distribusi kelas setelah resampling:\n",
            "Outcome\n",
            "0    332\n",
            "1    332\n",
            "Name: count, dtype: int64\n"
          ]
        },
        {
          "output_type": "display_data",
          "data": {
            "text/plain": [
              "<Figure size 1200x500 with 2 Axes>"
            ],
            "image/png": "[encoded data removed]"
          },
          "metadata": {}
        }
      ]
    },
    {
      "cell_type": "markdown",
      "source": [
        "# Modeling"
      ],
      "metadata": {
        "id": "JgT0Wyllm-1a"
      }
    },
    {
      "cell_type": "code",
      "source": [
        "import numpy as np\n",
        "from sklearn.tree import DecisionTreeClassifier\n",
        "from sklearn.model_selection import cross_val_score, StratifiedKFold\n",
        "from sklearn.metrics import recall_score, make_scorer\n",
        "import math\n",
        "import random\n",
        "\n",
        "# --- SETUP ---\n",
        "\n",
        "# Mapping criterion\n",
        "criterion_map = {0: 'gini', 1: 'entropy', 2: 'log_loss'}\n",
        "\n",
        "# Bounds in form: [min, max] for each hyperparameter\n",
        "bounds = np.array([\n",
        "    [2, 15],     # max_depth\n",
        "    [13, 30],    # min_samples_split\n",
        "    [4, 20],     # min_samples_leaf\n",
        "    [0, 2]       # criterion_idx (discrete)\n",
        "])"
      ],
      "metadata": {
        "id": "wRq1yijmoi11"
      },
      "execution_count": null,
      "outputs": []
    },
    {
      "cell_type": "code",
      "source": [
        "def clamp_solution(sol):\n",
        "    \"\"\"Batasi nilai solusi agar tetap dalam bounds & bulatkan untuk yang perlu.\"\"\"\n",
        "    clamped = np.clip(sol, bounds[:, 0], bounds[:, 1])\n",
        "    clamped[0] = int(round(clamped[0]))  # max_depth\n",
        "    clamped[1] = int(round(clamped[1]))  # min_samples_split\n",
        "    clamped[2] = int(round(clamped[2]))  # min_samples_leaf\n",
        "    clamped[3] = int(round(clamped[3]))  # criterion_idx\n",
        "    return clamped\n",
        "\n",
        "def evaluate_solution(sol, X, y):\n",
        "    \"\"\"Evaluasi performa solusi dengan cross-validated recall score.\"\"\"\n",
        "    max_depth = int(sol[0])\n",
        "    min_samples_split = int(sol[1])\n",
        "    min_samples_leaf = int(sol[2])\n",
        "    criterion = criterion_map[int(sol[3])]\n",
        "\n",
        "    model = DecisionTreeClassifier(\n",
        "        max_depth=max_depth,\n",
        "        min_samples_split=min_samples_split,\n",
        "        min_samples_leaf=min_samples_leaf,\n",
        "        criterion=criterion,\n",
        "        class_weight='balanced',\n",
        "        random_state=42\n",
        "    )\n",
        "\n",
        "    cv = StratifiedKFold(n_splits=5, shuffle=True, random_state=42)\n",
        "    scores = cross_val_score(model, X, y, cv=cv, scoring=make_scorer(recall_score), n_jobs=-1)\n",
        "\n",
        "    return np.mean(scores)"
      ],
      "metadata": {
        "id": "m3nCFrZ8pH-T"
      },
      "execution_count": null,
      "outputs": []
    },
    {
      "cell_type": "code",
      "source": [
        "def levy_flight(beta=1.5):\n",
        "    \"\"\"Menghasilkan langkah Lévy Flight 1D dengan distribusi Mantegna.\"\"\"\n",
        "    sigma_u = (math.gamma(1 + beta) * math.sin(math.pi * beta / 2) /\n",
        "               (math.gamma((1 + beta) / 2) * beta * 2**((beta - 1) / 2)))**(1 / beta)\n",
        "    u = np.random.normal(0, sigma_u)\n",
        "    v = np.random.normal(0, 1)\n",
        "    step = u / abs(v) ** (1 / beta)\n",
        "    return step"
      ],
      "metadata": {
        "id": "14LH1zJ9pNLv"
      },
      "execution_count": null,
      "outputs": []
    },
    {
      "cell_type": "code",
      "source": [
        "def levy_optimizer(X, y, n_agents=10, max_iter=50, alpha=0.5):\n",
        "    population = np.random.uniform(bounds[:, 0], bounds[:, 1], size=(n_agents, bounds.shape[0]))\n",
        "    fitness = [evaluate_solution(clamp_solution(agent), X, y) for agent in population]\n",
        "\n",
        "    best_idx = np.argmax(fitness)\n",
        "    best_pos = population[best_idx].copy()\n",
        "    best_score = fitness[best_idx]\n",
        "\n",
        "    score_history = [best_score]\n",
        "\n",
        "    for it in range(max_iter):\n",
        "        for i in range(n_agents):\n",
        "            step = np.array([levy_flight(beta=1.5) for _ in range(bounds.shape[0])])\n",
        "            new_pos = population[i] + alpha * step\n",
        "            new_pos = clamp_solution(new_pos)\n",
        "            new_score = evaluate_solution(new_pos, X, y)\n",
        "\n",
        "            if new_score > fitness[i]:\n",
        "                population[i] = new_pos\n",
        "                fitness[i] = new_score\n",
        "\n",
        "                if new_score > best_score:\n",
        "                    best_score = new_score\n",
        "                    best_pos = new_pos.copy()\n",
        "\n",
        "        score_history.append(best_score)\n",
        "        print(f\"Iter {it+1}/{max_iter} | Best Recall: {best_score:.4f}\")\n",
        "\n",
        "    return best_pos, best_score, score_history"
      ],
      "metadata": {
        "id": "2ON_ZWVpoPBg"
      },
      "execution_count": null,
      "outputs": []
    },
    {
      "cell_type": "code",
      "source": [
        "best_pos_levy, best_score_levy, history_levy = levy_optimizer(X_train_resampled, y_train_resampled)"
      ],
      "metadata": {
        "colab": {
          "base_uri": "https://localhost:8080/"
        },
        "id": "IhmS_TYYoPFb",
        "outputId": "6d8764d7-8c43-42e8-e4e4-879bf7a29111"
      },
      "execution_count": null,
      "outputs": [
        {
          "output_type": "stream",
          "name": "stdout",
          "text": [
            "Iter 1/50 | Best Recall: 0.8917\n",
            "Iter 2/50 | Best Recall: 0.8917\n",
            "Iter 3/50 | Best Recall: 0.8917\n",
            "Iter 4/50 | Best Recall: 0.8917\n",
            "Iter 5/50 | Best Recall: 0.8917\n",
            "Iter 6/50 | Best Recall: 0.8917\n",
            "Iter 7/50 | Best Recall: 0.8917\n",
            "Iter 8/50 | Best Recall: 0.8917\n",
            "Iter 9/50 | Best Recall: 0.8917\n",
            "Iter 10/50 | Best Recall: 0.9157\n",
            "Iter 11/50 | Best Recall: 0.9157\n",
            "Iter 12/50 | Best Recall: 0.9157\n",
            "Iter 13/50 | Best Recall: 0.9157\n",
            "Iter 14/50 | Best Recall: 0.9157\n",
            "Iter 15/50 | Best Recall: 0.9157\n",
            "Iter 16/50 | Best Recall: 0.9157\n",
            "Iter 17/50 | Best Recall: 0.9157\n",
            "Iter 18/50 | Best Recall: 0.9157\n",
            "Iter 19/50 | Best Recall: 0.9157\n",
            "Iter 20/50 | Best Recall: 0.9157\n",
            "Iter 21/50 | Best Recall: 0.9157\n",
            "Iter 22/50 | Best Recall: 0.9157\n",
            "Iter 23/50 | Best Recall: 0.9157\n",
            "Iter 24/50 | Best Recall: 0.9157\n",
            "Iter 25/50 | Best Recall: 0.9157\n",
            "Iter 26/50 | Best Recall: 0.9157\n",
            "Iter 27/50 | Best Recall: 0.9157\n",
            "Iter 28/50 | Best Recall: 0.9157\n",
            "Iter 29/50 | Best Recall: 0.9157\n",
            "Iter 30/50 | Best Recall: 0.9186\n",
            "Iter 31/50 | Best Recall: 0.9186\n",
            "Iter 32/50 | Best Recall: 0.9186\n",
            "Iter 33/50 | Best Recall: 0.9186\n",
            "Iter 34/50 | Best Recall: 0.9186\n",
            "Iter 35/50 | Best Recall: 0.9186\n",
            "Iter 36/50 | Best Recall: 0.9186\n",
            "Iter 37/50 | Best Recall: 0.9186\n",
            "Iter 38/50 | Best Recall: 0.9186\n",
            "Iter 39/50 | Best Recall: 0.9186\n",
            "Iter 40/50 | Best Recall: 0.9186\n",
            "Iter 41/50 | Best Recall: 0.9186\n",
            "Iter 42/50 | Best Recall: 0.9186\n",
            "Iter 43/50 | Best Recall: 0.9186\n",
            "Iter 44/50 | Best Recall: 0.9186\n",
            "Iter 45/50 | Best Recall: 0.9186\n",
            "Iter 46/50 | Best Recall: 0.9186\n",
            "Iter 47/50 | Best Recall: 0.9186\n",
            "Iter 48/50 | Best Recall: 0.9186\n",
            "Iter 49/50 | Best Recall: 0.9186\n",
            "Iter 50/50 | Best Recall: 0.9186\n"
          ]
        }
      ]
    },
    {
      "cell_type": "code",
      "source": [
        "import optuna\n",
        "\n",
        "# Konversi hasil Lévy ke range sempit\n",
        "suggested_bounds = {\n",
        "    \"max_depth\": (max(2, int(best_pos_levy[0]) - 2), min(15, int(best_pos_levy[0]) + 2)),\n",
        "    \"min_samples_split\": (max(13, int(best_pos_levy[1]) - 2), min(30, int(best_pos_levy[1]) + 2)),\n",
        "    \"min_samples_leaf\": (max(4, int(best_pos_levy[2]) - 2), min(20, int(best_pos_levy[2]) + 2)),\n",
        "    \"criterion\": [\"gini\", \"entropy\", \"log_loss\"]\n",
        "}\n",
        "\n",
        "# Simpan history optuna untuk plot\n",
        "history_optuna = []\n",
        "\n",
        "def objective(trial):\n",
        "    max_depth = trial.suggest_int(\"max_depth\", *suggested_bounds[\"max_depth\"])\n",
        "    min_samples_split = trial.suggest_int(\"min_samples_split\", *suggested_bounds[\"min_samples_split\"])\n",
        "    min_samples_leaf = trial.suggest_int(\"min_samples_leaf\", *suggested_bounds[\"min_samples_leaf\"])\n",
        "    criterion = trial.suggest_categorical(\"criterion\", suggested_bounds[\"criterion\"])\n",
        "\n",
        "    model = DecisionTreeClassifier(\n",
        "        max_depth=max_depth,\n",
        "        criterion=criterion,\n",
        "        min_samples_split=min_samples_split,\n",
        "        min_samples_leaf=min_samples_leaf,\n",
        "        class_weight='balanced',\n",
        "        random_state=42\n",
        "    )\n",
        "\n",
        "    cv = StratifiedKFold(n_splits=5, shuffle=True, random_state=42)\n",
        "    score = np.mean(cross_val_score(model, X_train_resampled, y_train_resampled, cv=cv, scoring=make_scorer(recall_score), n_jobs=-1))\n",
        "\n",
        "    history_optuna.append(score)  # Track learning\n",
        "    return score"
      ],
      "metadata": {
        "id": "ehk-arLeoPJQ"
      },
      "execution_count": null,
      "outputs": []
    },
    {
      "cell_type": "code",
      "source": [
        "study = optuna.create_study(direction=\"maximize\")\n",
        "study.optimize(objective, n_trials=100)\n",
        "\n",
        "print(\" Best trial found:\")\n",
        "print(f\"  Mean Recall Score: {study.best_value:.4f}\")\n",
        "for k, v in study.best_params.items():\n",
        "    print(f\"  {k}: {v}\")"
      ],
      "metadata": {
        "colab": {
          "base_uri": "https://localhost:8080/"
        },
        "id": "JSUwBheWsIdQ",
        "outputId": "ffa73a90-a713-4aa4-91de-1563192c7fb2"
      },
      "execution_count": null,
      "outputs": [
        {
          "output_type": "stream",
          "name": "stderr",
          "text": [
            "[I 2025-07-23 05:14:43,783] A new study created in memory with name: no-name-839b3d67-389e-43f2-a925-72ee471bca2d\n",
            "[I 2025-07-23 05:14:43,834] Trial 0 finished with value: 0.8765264586160109 and parameters: {'max_depth': 5, 'min_samples_split': 29, 'min_samples_leaf': 15, 'criterion': 'gini'}. Best is trial 0 with value: 0.8765264586160109.\n",
            "[I 2025-07-23 05:14:43,893] Trial 1 finished with value: 0.8764812302125735 and parameters: {'max_depth': 5, 'min_samples_split': 27, 'min_samples_leaf': 17, 'criterion': 'gini'}. Best is trial 0 with value: 0.8765264586160109.\n",
            "[I 2025-07-23 05:14:43,936] Trial 2 finished with value: 0.814111261872456 and parameters: {'max_depth': 2, 'min_samples_split': 28, 'min_samples_leaf': 14, 'criterion': 'gini'}. Best is trial 0 with value: 0.8765264586160109.\n",
            "[I 2025-07-23 05:14:43,984] Trial 3 finished with value: 0.8434644957033017 and parameters: {'max_depth': 5, 'min_samples_split': 29, 'min_samples_leaf': 17, 'criterion': 'entropy'}. Best is trial 0 with value: 0.8765264586160109.\n",
            "[I 2025-07-23 05:14:44,030] Trial 4 finished with value: 0.8886476707372228 and parameters: {'max_depth': 4, 'min_samples_split': 30, 'min_samples_leaf': 18, 'criterion': 'gini'}. Best is trial 4 with value: 0.8886476707372228.\n",
            "[I 2025-07-23 05:14:44,076] Trial 5 finished with value: 0.9126639529624603 and parameters: {'max_depth': 3, 'min_samples_split': 28, 'min_samples_leaf': 14, 'criterion': 'entropy'}. Best is trial 5 with value: 0.9126639529624603.\n",
            "[I 2025-07-23 05:14:44,117] Trial 6 finished with value: 0.9156490275893262 and parameters: {'max_depth': 3, 'min_samples_split': 26, 'min_samples_leaf': 15, 'criterion': 'gini'}. Best is trial 6 with value: 0.9156490275893262.\n",
            "[I 2025-07-23 05:14:44,171] Trial 7 finished with value: 0.8525554047942107 and parameters: {'max_depth': 5, 'min_samples_split': 27, 'min_samples_leaf': 18, 'criterion': 'log_loss'}. Best is trial 6 with value: 0.9156490275893262.\n",
            "[I 2025-07-23 05:14:44,226] Trial 8 finished with value: 0.8434644957033017 and parameters: {'max_depth': 5, 'min_samples_split': 29, 'min_samples_leaf': 17, 'criterion': 'entropy'}. Best is trial 6 with value: 0.9156490275893262.\n",
            "[I 2025-07-23 05:14:44,279] Trial 9 finished with value: 0.9126639529624605 and parameters: {'max_depth': 3, 'min_samples_split': 30, 'min_samples_leaf': 14, 'criterion': 'gini'}. Best is trial 6 with value: 0.9156490275893262.\n",
            "[I 2025-07-23 05:14:44,346] Trial 10 finished with value: 0.7743554952510177 and parameters: {'max_depth': 2, 'min_samples_split': 26, 'min_samples_leaf': 15, 'criterion': 'log_loss'}. Best is trial 6 with value: 0.9156490275893262.\n",
            "[I 2025-07-23 05:14:44,415] Trial 11 finished with value: 0.9156490275893262 and parameters: {'max_depth': 3, 'min_samples_split': 26, 'min_samples_leaf': 15, 'criterion': 'gini'}. Best is trial 6 with value: 0.9156490275893262.\n",
            "[I 2025-07-23 05:14:44,476] Trial 12 finished with value: 0.9156490275893262 and parameters: {'max_depth': 3, 'min_samples_split': 26, 'min_samples_leaf': 15, 'criterion': 'gini'}. Best is trial 6 with value: 0.9156490275893262.\n",
            "[I 2025-07-23 05:14:44,544] Trial 13 finished with value: 0.8976933514246946 and parameters: {'max_depth': 4, 'min_samples_split': 26, 'min_samples_leaf': 16, 'criterion': 'gini'}. Best is trial 6 with value: 0.9156490275893262.\n",
            "[I 2025-07-23 05:14:44,610] Trial 14 finished with value: 0.9156942559927634 and parameters: {'max_depth': 3, 'min_samples_split': 27, 'min_samples_leaf': 16, 'criterion': 'log_loss'}. Best is trial 14 with value: 0.9156942559927634.\n",
            "[I 2025-07-23 05:14:44,668] Trial 15 finished with value: 0.7743554952510177 and parameters: {'max_depth': 2, 'min_samples_split': 27, 'min_samples_leaf': 16, 'criterion': 'log_loss'}. Best is trial 14 with value: 0.9156942559927634.\n",
            "[I 2025-07-23 05:14:44,733] Trial 16 finished with value: 0.8438715513342379 and parameters: {'max_depth': 4, 'min_samples_split': 27, 'min_samples_leaf': 16, 'criterion': 'log_loss'}. Best is trial 14 with value: 0.9156942559927634.\n",
            "[I 2025-07-23 05:14:44,799] Trial 17 finished with value: 0.9156942559927634 and parameters: {'max_depth': 3, 'min_samples_split': 27, 'min_samples_leaf': 15, 'criterion': 'log_loss'}. Best is trial 14 with value: 0.9156942559927634.\n",
            "[I 2025-07-23 05:14:44,881] Trial 18 finished with value: 0.8438715513342379 and parameters: {'max_depth': 4, 'min_samples_split': 28, 'min_samples_leaf': 16, 'criterion': 'log_loss'}. Best is trial 14 with value: 0.9156942559927634.\n",
            "[I 2025-07-23 05:14:44,948] Trial 19 finished with value: 0.7743554952510177 and parameters: {'max_depth': 2, 'min_samples_split': 27, 'min_samples_leaf': 17, 'criterion': 'log_loss'}. Best is trial 14 with value: 0.9156942559927634.\n",
            "[I 2025-07-23 05:14:45,015] Trial 20 finished with value: 0.9156942559927634 and parameters: {'max_depth': 3, 'min_samples_split': 28, 'min_samples_leaf': 15, 'criterion': 'log_loss'}. Best is trial 14 with value: 0.9156942559927634.\n",
            "[I 2025-07-23 05:14:45,086] Trial 21 finished with value: 0.9156942559927634 and parameters: {'max_depth': 3, 'min_samples_split': 28, 'min_samples_leaf': 15, 'criterion': 'log_loss'}. Best is trial 14 with value: 0.9156942559927634.\n",
            "[I 2025-07-23 05:14:45,155] Trial 22 finished with value: 0.9156942559927634 and parameters: {'max_depth': 3, 'min_samples_split': 28, 'min_samples_leaf': 16, 'criterion': 'log_loss'}. Best is trial 14 with value: 0.9156942559927634.\n",
            "[I 2025-07-23 05:14:45,222] Trial 23 finished with value: 0.9126639529624603 and parameters: {'max_depth': 3, 'min_samples_split': 27, 'min_samples_leaf': 14, 'criterion': 'log_loss'}. Best is trial 14 with value: 0.9156942559927634.\n",
            "[I 2025-07-23 05:14:45,284] Trial 24 finished with value: 0.8438715513342379 and parameters: {'max_depth': 4, 'min_samples_split': 27, 'min_samples_leaf': 15, 'criterion': 'log_loss'}. Best is trial 14 with value: 0.9156942559927634.\n",
            "[I 2025-07-23 05:14:45,344] Trial 25 finished with value: 0.7743554952510177 and parameters: {'max_depth': 2, 'min_samples_split': 28, 'min_samples_leaf': 16, 'criterion': 'log_loss'}. Best is trial 14 with value: 0.9156942559927634.\n",
            "[I 2025-07-23 05:14:45,402] Trial 26 finished with value: 0.9156942559927634 and parameters: {'max_depth': 3, 'min_samples_split': 29, 'min_samples_leaf': 15, 'criterion': 'log_loss'}. Best is trial 14 with value: 0.9156942559927634.\n",
            "[I 2025-07-23 05:14:45,465] Trial 27 finished with value: 0.8408412483039347 and parameters: {'max_depth': 4, 'min_samples_split': 27, 'min_samples_leaf': 14, 'criterion': 'log_loss'}. Best is trial 14 with value: 0.9156942559927634.\n",
            "[I 2025-07-23 05:14:45,524] Trial 28 finished with value: 0.9156942559927634 and parameters: {'max_depth': 3, 'min_samples_split': 28, 'min_samples_leaf': 16, 'criterion': 'entropy'}. Best is trial 14 with value: 0.9156942559927634.\n",
            "[I 2025-07-23 05:14:45,592] Trial 29 finished with value: 0.7743554952510177 and parameters: {'max_depth': 2, 'min_samples_split': 28, 'min_samples_leaf': 15, 'criterion': 'log_loss'}. Best is trial 14 with value: 0.9156942559927634.\n",
            "[I 2025-07-23 05:14:45,654] Trial 30 finished with value: 0.9156942559927634 and parameters: {'max_depth': 3, 'min_samples_split': 29, 'min_samples_leaf': 16, 'criterion': 'log_loss'}. Best is trial 14 with value: 0.9156942559927634.\n",
            "[I 2025-07-23 05:14:45,720] Trial 31 finished with value: 0.9156942559927634 and parameters: {'max_depth': 3, 'min_samples_split': 28, 'min_samples_leaf': 15, 'criterion': 'log_loss'}. Best is trial 14 with value: 0.9156942559927634.\n",
            "[I 2025-07-23 05:14:45,783] Trial 32 finished with value: 0.9156942559927634 and parameters: {'max_depth': 3, 'min_samples_split': 27, 'min_samples_leaf': 15, 'criterion': 'log_loss'}. Best is trial 14 with value: 0.9156942559927634.\n",
            "[I 2025-07-23 05:14:45,849] Trial 33 finished with value: 0.9126639529624603 and parameters: {'max_depth': 3, 'min_samples_split': 28, 'min_samples_leaf': 14, 'criterion': 'log_loss'}. Best is trial 14 with value: 0.9156942559927634.\n",
            "[I 2025-07-23 05:14:45,916] Trial 34 finished with value: 0.7743554952510177 and parameters: {'max_depth': 2, 'min_samples_split': 28, 'min_samples_leaf': 17, 'criterion': 'log_loss'}. Best is trial 14 with value: 0.9156942559927634.\n",
            "[I 2025-07-23 05:14:45,991] Trial 35 finished with value: 0.8438715513342379 and parameters: {'max_depth': 4, 'min_samples_split': 29, 'min_samples_leaf': 15, 'criterion': 'log_loss'}. Best is trial 14 with value: 0.9156942559927634.\n",
            "[I 2025-07-23 05:14:46,054] Trial 36 finished with value: 0.9156942559927634 and parameters: {'max_depth': 3, 'min_samples_split': 27, 'min_samples_leaf': 15, 'criterion': 'entropy'}. Best is trial 14 with value: 0.9156942559927634.\n",
            "[I 2025-07-23 05:14:46,121] Trial 37 finished with value: 0.9126639529624603 and parameters: {'max_depth': 3, 'min_samples_split': 29, 'min_samples_leaf': 14, 'criterion': 'log_loss'}. Best is trial 14 with value: 0.9156942559927634.\n",
            "[I 2025-07-23 05:14:46,198] Trial 38 finished with value: 0.8438715513342379 and parameters: {'max_depth': 4, 'min_samples_split': 30, 'min_samples_leaf': 15, 'criterion': 'entropy'}. Best is trial 14 with value: 0.9156942559927634.\n",
            "[I 2025-07-23 05:14:46,255] Trial 39 finished with value: 0.7743554952510177 and parameters: {'max_depth': 2, 'min_samples_split': 27, 'min_samples_leaf': 18, 'criterion': 'log_loss'}. Best is trial 14 with value: 0.9156942559927634.\n",
            "[I 2025-07-23 05:14:46,321] Trial 40 finished with value: 0.9156942559927634 and parameters: {'max_depth': 3, 'min_samples_split': 28, 'min_samples_leaf': 17, 'criterion': 'log_loss'}. Best is trial 14 with value: 0.9156942559927634.\n",
            "[I 2025-07-23 05:14:46,378] Trial 41 finished with value: 0.9156942559927634 and parameters: {'max_depth': 3, 'min_samples_split': 28, 'min_samples_leaf': 16, 'criterion': 'log_loss'}. Best is trial 14 with value: 0.9156942559927634.\n",
            "[I 2025-07-23 05:14:46,438] Trial 42 finished with value: 0.9156942559927634 and parameters: {'max_depth': 3, 'min_samples_split': 28, 'min_samples_leaf': 16, 'criterion': 'log_loss'}. Best is trial 14 with value: 0.9156942559927634.\n",
            "[I 2025-07-23 05:14:46,494] Trial 43 finished with value: 0.9156942559927634 and parameters: {'max_depth': 3, 'min_samples_split': 28, 'min_samples_leaf': 16, 'criterion': 'log_loss'}. Best is trial 14 with value: 0.9156942559927634.\n",
            "[I 2025-07-23 05:14:46,563] Trial 44 finished with value: 0.9156942559927634 and parameters: {'max_depth': 3, 'min_samples_split': 29, 'min_samples_leaf': 16, 'criterion': 'log_loss'}. Best is trial 14 with value: 0.9156942559927634.\n",
            "[I 2025-07-23 05:14:46,626] Trial 45 finished with value: 0.9156942559927634 and parameters: {'max_depth': 3, 'min_samples_split': 26, 'min_samples_leaf': 15, 'criterion': 'entropy'}. Best is trial 14 with value: 0.9156942559927634.\n",
            "[I 2025-07-23 05:14:46,693] Trial 46 finished with value: 0.9186341022161919 and parameters: {'max_depth': 3, 'min_samples_split': 27, 'min_samples_leaf': 17, 'criterion': 'gini'}. Best is trial 46 with value: 0.9186341022161919.\n",
            "[I 2025-07-23 05:14:46,757] Trial 47 finished with value: 0.912618724559023 and parameters: {'max_depth': 3, 'min_samples_split': 27, 'min_samples_leaf': 18, 'criterion': 'gini'}. Best is trial 46 with value: 0.9186341022161919.\n",
            "[I 2025-07-23 05:14:46,844] Trial 48 finished with value: 0.8976933514246946 and parameters: {'max_depth': 4, 'min_samples_split': 26, 'min_samples_leaf': 17, 'criterion': 'gini'}. Best is trial 46 with value: 0.9186341022161919.\n",
            "[I 2025-07-23 05:14:46,930] Trial 49 finished with value: 0.814111261872456 and parameters: {'max_depth': 2, 'min_samples_split': 27, 'min_samples_leaf': 17, 'criterion': 'gini'}. Best is trial 46 with value: 0.9186341022161919.\n",
            "[I 2025-07-23 05:14:47,007] Trial 50 finished with value: 0.9126639529624605 and parameters: {'max_depth': 3, 'min_samples_split': 26, 'min_samples_leaf': 14, 'criterion': 'gini'}. Best is trial 46 with value: 0.9186341022161919.\n",
            "[I 2025-07-23 05:14:47,076] Trial 51 finished with value: 0.9186341022161919 and parameters: {'max_depth': 3, 'min_samples_split': 27, 'min_samples_leaf': 17, 'criterion': 'gini'}. Best is trial 46 with value: 0.9186341022161919.\n",
            "[I 2025-07-23 05:14:47,140] Trial 52 finished with value: 0.9186341022161919 and parameters: {'max_depth': 3, 'min_samples_split': 27, 'min_samples_leaf': 17, 'criterion': 'gini'}. Best is trial 46 with value: 0.9186341022161919.\n",
            "[I 2025-07-23 05:14:47,204] Trial 53 finished with value: 0.9186341022161919 and parameters: {'max_depth': 3, 'min_samples_split': 27, 'min_samples_leaf': 17, 'criterion': 'gini'}. Best is trial 46 with value: 0.9186341022161919.\n",
            "[I 2025-07-23 05:14:47,270] Trial 54 finished with value: 0.9186341022161919 and parameters: {'max_depth': 3, 'min_samples_split': 27, 'min_samples_leaf': 17, 'criterion': 'gini'}. Best is trial 46 with value: 0.9186341022161919.\n",
            "[I 2025-07-23 05:14:47,337] Trial 55 finished with value: 0.9186341022161919 and parameters: {'max_depth': 3, 'min_samples_split': 27, 'min_samples_leaf': 17, 'criterion': 'gini'}. Best is trial 46 with value: 0.9186341022161919.\n",
            "[I 2025-07-23 05:14:47,394] Trial 56 finished with value: 0.9186341022161919 and parameters: {'max_depth': 3, 'min_samples_split': 27, 'min_samples_leaf': 17, 'criterion': 'gini'}. Best is trial 46 with value: 0.9186341022161919.\n",
            "[I 2025-07-23 05:14:47,451] Trial 57 finished with value: 0.9186341022161919 and parameters: {'max_depth': 3, 'min_samples_split': 27, 'min_samples_leaf': 17, 'criterion': 'gini'}. Best is trial 46 with value: 0.9186341022161919.\n",
            "[I 2025-07-23 05:14:47,513] Trial 58 finished with value: 0.8674355495251017 and parameters: {'max_depth': 5, 'min_samples_split': 26, 'min_samples_leaf': 18, 'criterion': 'gini'}. Best is trial 46 with value: 0.9186341022161919.\n",
            "[I 2025-07-23 05:14:47,583] Trial 59 finished with value: 0.8976933514246946 and parameters: {'max_depth': 4, 'min_samples_split': 27, 'min_samples_leaf': 17, 'criterion': 'gini'}. Best is trial 46 with value: 0.9186341022161919.\n",
            "[I 2025-07-23 05:14:47,648] Trial 60 finished with value: 0.9186341022161919 and parameters: {'max_depth': 3, 'min_samples_split': 27, 'min_samples_leaf': 17, 'criterion': 'gini'}. Best is trial 46 with value: 0.9186341022161919.\n",
            "[I 2025-07-23 05:14:47,707] Trial 61 finished with value: 0.9186341022161919 and parameters: {'max_depth': 3, 'min_samples_split': 27, 'min_samples_leaf': 17, 'criterion': 'gini'}. Best is trial 46 with value: 0.9186341022161919.\n",
            "[I 2025-07-23 05:14:47,764] Trial 62 finished with value: 0.9186341022161919 and parameters: {'max_depth': 3, 'min_samples_split': 27, 'min_samples_leaf': 17, 'criterion': 'gini'}. Best is trial 46 with value: 0.9186341022161919.\n",
            "[I 2025-07-23 05:14:47,830] Trial 63 finished with value: 0.9186341022161919 and parameters: {'max_depth': 3, 'min_samples_split': 27, 'min_samples_leaf': 17, 'criterion': 'gini'}. Best is trial 46 with value: 0.9186341022161919.\n",
            "[I 2025-07-23 05:14:47,893] Trial 64 finished with value: 0.9186341022161919 and parameters: {'max_depth': 3, 'min_samples_split': 27, 'min_samples_leaf': 17, 'criterion': 'gini'}. Best is trial 46 with value: 0.9186341022161919.\n",
            "[I 2025-07-23 05:14:47,962] Trial 65 finished with value: 0.912618724559023 and parameters: {'max_depth': 3, 'min_samples_split': 26, 'min_samples_leaf': 18, 'criterion': 'gini'}. Best is trial 46 with value: 0.9186341022161919.\n",
            "[I 2025-07-23 05:14:48,036] Trial 66 finished with value: 0.9186341022161919 and parameters: {'max_depth': 3, 'min_samples_split': 27, 'min_samples_leaf': 17, 'criterion': 'gini'}. Best is trial 46 with value: 0.9186341022161919.\n",
            "[I 2025-07-23 05:14:48,092] Trial 67 finished with value: 0.814111261872456 and parameters: {'max_depth': 2, 'min_samples_split': 27, 'min_samples_leaf': 17, 'criterion': 'gini'}. Best is trial 46 with value: 0.9186341022161919.\n",
            "[I 2025-07-23 05:14:48,162] Trial 68 finished with value: 0.912618724559023 and parameters: {'max_depth': 3, 'min_samples_split': 27, 'min_samples_leaf': 18, 'criterion': 'gini'}. Best is trial 46 with value: 0.9186341022161919.\n",
            "[I 2025-07-23 05:14:48,234] Trial 69 finished with value: 0.9186341022161919 and parameters: {'max_depth': 3, 'min_samples_split': 26, 'min_samples_leaf': 17, 'criterion': 'gini'}. Best is trial 46 with value: 0.9186341022161919.\n",
            "[I 2025-07-23 05:14:48,307] Trial 70 finished with value: 0.9186341022161919 and parameters: {'max_depth': 3, 'min_samples_split': 27, 'min_samples_leaf': 17, 'criterion': 'gini'}. Best is trial 46 with value: 0.9186341022161919.\n",
            "[I 2025-07-23 05:14:48,380] Trial 71 finished with value: 0.9186341022161919 and parameters: {'max_depth': 3, 'min_samples_split': 27, 'min_samples_leaf': 17, 'criterion': 'gini'}. Best is trial 46 with value: 0.9186341022161919.\n",
            "[I 2025-07-23 05:14:48,447] Trial 72 finished with value: 0.9186341022161919 and parameters: {'max_depth': 3, 'min_samples_split': 27, 'min_samples_leaf': 17, 'criterion': 'gini'}. Best is trial 46 with value: 0.9186341022161919.\n",
            "[I 2025-07-23 05:14:48,514] Trial 73 finished with value: 0.9186341022161919 and parameters: {'max_depth': 3, 'min_samples_split': 27, 'min_samples_leaf': 17, 'criterion': 'gini'}. Best is trial 46 with value: 0.9186341022161919.\n",
            "[I 2025-07-23 05:14:48,585] Trial 74 finished with value: 0.9186341022161919 and parameters: {'max_depth': 3, 'min_samples_split': 27, 'min_samples_leaf': 17, 'criterion': 'gini'}. Best is trial 46 with value: 0.9186341022161919.\n",
            "[I 2025-07-23 05:14:48,656] Trial 75 finished with value: 0.9186341022161919 and parameters: {'max_depth': 3, 'min_samples_split': 27, 'min_samples_leaf': 17, 'criterion': 'gini'}. Best is trial 46 with value: 0.9186341022161919.\n",
            "[I 2025-07-23 05:14:48,726] Trial 76 finished with value: 0.912618724559023 and parameters: {'max_depth': 3, 'min_samples_split': 27, 'min_samples_leaf': 18, 'criterion': 'gini'}. Best is trial 46 with value: 0.9186341022161919.\n",
            "[I 2025-07-23 05:14:48,789] Trial 77 finished with value: 0.9186341022161919 and parameters: {'max_depth': 3, 'min_samples_split': 27, 'min_samples_leaf': 17, 'criterion': 'gini'}. Best is trial 46 with value: 0.9186341022161919.\n",
            "[I 2025-07-23 05:14:48,851] Trial 78 finished with value: 0.8976933514246946 and parameters: {'max_depth': 4, 'min_samples_split': 27, 'min_samples_leaf': 17, 'criterion': 'gini'}. Best is trial 46 with value: 0.9186341022161919.\n",
            "[I 2025-07-23 05:14:48,922] Trial 79 finished with value: 0.912618724559023 and parameters: {'max_depth': 3, 'min_samples_split': 26, 'min_samples_leaf': 18, 'criterion': 'gini'}. Best is trial 46 with value: 0.9186341022161919.\n",
            "[I 2025-07-23 05:14:48,991] Trial 80 finished with value: 0.814111261872456 and parameters: {'max_depth': 2, 'min_samples_split': 27, 'min_samples_leaf': 17, 'criterion': 'gini'}. Best is trial 46 with value: 0.9186341022161919.\n",
            "[I 2025-07-23 05:14:49,082] Trial 81 finished with value: 0.9186341022161919 and parameters: {'max_depth': 3, 'min_samples_split': 27, 'min_samples_leaf': 17, 'criterion': 'gini'}. Best is trial 46 with value: 0.9186341022161919.\n",
            "[I 2025-07-23 05:14:49,153] Trial 82 finished with value: 0.9186341022161919 and parameters: {'max_depth': 3, 'min_samples_split': 27, 'min_samples_leaf': 17, 'criterion': 'gini'}. Best is trial 46 with value: 0.9186341022161919.\n",
            "[I 2025-07-23 05:14:49,224] Trial 83 finished with value: 0.9186341022161919 and parameters: {'max_depth': 3, 'min_samples_split': 27, 'min_samples_leaf': 17, 'criterion': 'gini'}. Best is trial 46 with value: 0.9186341022161919.\n",
            "[I 2025-07-23 05:14:49,293] Trial 84 finished with value: 0.9186341022161919 and parameters: {'max_depth': 3, 'min_samples_split': 27, 'min_samples_leaf': 17, 'criterion': 'gini'}. Best is trial 46 with value: 0.9186341022161919.\n",
            "[I 2025-07-23 05:14:49,356] Trial 85 finished with value: 0.9186341022161919 and parameters: {'max_depth': 3, 'min_samples_split': 27, 'min_samples_leaf': 17, 'criterion': 'gini'}. Best is trial 46 with value: 0.9186341022161919.\n",
            "[I 2025-07-23 05:14:49,424] Trial 86 finished with value: 0.9156942559927634 and parameters: {'max_depth': 3, 'min_samples_split': 27, 'min_samples_leaf': 17, 'criterion': 'entropy'}. Best is trial 46 with value: 0.9186341022161919.\n",
            "[I 2025-07-23 05:14:49,489] Trial 87 finished with value: 0.9186341022161919 and parameters: {'max_depth': 3, 'min_samples_split': 27, 'min_samples_leaf': 17, 'criterion': 'gini'}. Best is trial 46 with value: 0.9186341022161919.\n",
            "[I 2025-07-23 05:14:49,559] Trial 88 finished with value: 0.9186341022161919 and parameters: {'max_depth': 3, 'min_samples_split': 27, 'min_samples_leaf': 17, 'criterion': 'gini'}. Best is trial 46 with value: 0.9186341022161919.\n",
            "[I 2025-07-23 05:14:49,622] Trial 89 finished with value: 0.912618724559023 and parameters: {'max_depth': 3, 'min_samples_split': 26, 'min_samples_leaf': 18, 'criterion': 'gini'}. Best is trial 46 with value: 0.9186341022161919.\n",
            "[I 2025-07-23 05:14:49,690] Trial 90 finished with value: 0.9186341022161919 and parameters: {'max_depth': 3, 'min_samples_split': 27, 'min_samples_leaf': 17, 'criterion': 'gini'}. Best is trial 46 with value: 0.9186341022161919.\n",
            "[I 2025-07-23 05:14:49,751] Trial 91 finished with value: 0.9186341022161919 and parameters: {'max_depth': 3, 'min_samples_split': 27, 'min_samples_leaf': 17, 'criterion': 'gini'}. Best is trial 46 with value: 0.9186341022161919.\n",
            "[I 2025-07-23 05:14:49,812] Trial 92 finished with value: 0.9186341022161919 and parameters: {'max_depth': 3, 'min_samples_split': 27, 'min_samples_leaf': 17, 'criterion': 'gini'}. Best is trial 46 with value: 0.9186341022161919.\n",
            "[I 2025-07-23 05:14:49,870] Trial 93 finished with value: 0.9186341022161919 and parameters: {'max_depth': 3, 'min_samples_split': 27, 'min_samples_leaf': 17, 'criterion': 'gini'}. Best is trial 46 with value: 0.9186341022161919.\n",
            "[I 2025-07-23 05:14:49,966] Trial 94 finished with value: 0.9186341022161919 and parameters: {'max_depth': 3, 'min_samples_split': 27, 'min_samples_leaf': 17, 'criterion': 'gini'}. Best is trial 46 with value: 0.9186341022161919.\n",
            "[I 2025-07-23 05:14:50,060] Trial 95 finished with value: 0.9186341022161919 and parameters: {'max_depth': 3, 'min_samples_split': 27, 'min_samples_leaf': 17, 'criterion': 'gini'}. Best is trial 46 with value: 0.9186341022161919.\n",
            "[I 2025-07-23 05:14:50,157] Trial 96 finished with value: 0.9186341022161919 and parameters: {'max_depth': 3, 'min_samples_split': 27, 'min_samples_leaf': 17, 'criterion': 'gini'}. Best is trial 46 with value: 0.9186341022161919.\n",
            "[I 2025-07-23 05:14:50,260] Trial 97 finished with value: 0.9156942559927634 and parameters: {'max_depth': 3, 'min_samples_split': 28, 'min_samples_leaf': 16, 'criterion': 'entropy'}. Best is trial 46 with value: 0.9186341022161919.\n",
            "[I 2025-07-23 05:14:50,352] Trial 98 finished with value: 0.9186341022161919 and parameters: {'max_depth': 3, 'min_samples_split': 27, 'min_samples_leaf': 17, 'criterion': 'gini'}. Best is trial 46 with value: 0.9186341022161919.\n",
            "[I 2025-07-23 05:14:50,441] Trial 99 finished with value: 0.9186341022161919 and parameters: {'max_depth': 3, 'min_samples_split': 27, 'min_samples_leaf': 17, 'criterion': 'gini'}. Best is trial 46 with value: 0.9186341022161919.\n"
          ]
        },
        {
          "output_type": "stream",
          "name": "stdout",
          "text": [
            " Best trial found:\n",
            "  Mean Recall Score: 0.9186\n",
            "  max_depth: 3\n",
            "  min_samples_split: 27\n",
            "  min_samples_leaf: 17\n",
            "  criterion: gini\n"
          ]
        }
      ]
    },
    {
      "cell_type": "code",
      "source": [
        "# Buat model dari best_params dan latih di training set\n",
        "best_model = DecisionTreeClassifier(\n",
        "    **study.best_params,\n",
        "    class_weight='balanced',\n",
        "    random_state=42\n",
        ")\n",
        "best_model.fit(X_train, y_train)\n",
        "\n",
        "# Prediksi & evaluasi\n",
        "from sklearn.metrics import classification_report, confusion_matrix\n",
        "y_pred = best_model.predict(X_test)\n",
        "\n",
        "print(\"\\n Classification Report (Test Set):\")\n",
        "print(classification_report(y_test, y_pred, target_names=['No Diabetes', 'Diabetes']))"
      ],
      "metadata": {
        "colab": {
          "base_uri": "https://localhost:8080/"
        },
        "id": "RZBvWFegslof",
        "outputId": "e8052bb1-26f7-4973-e486-68732521c32a"
      },
      "execution_count": null,
      "outputs": [
        {
          "output_type": "stream",
          "name": "stdout",
          "text": [
            "\n",
            " Classification Report (Test Set):\n",
            "              precision    recall  f1-score   support\n",
            "\n",
            " No Diabetes       0.87      0.56      0.68       151\n",
            "    Diabetes       0.50      0.84      0.63        80\n",
            "\n",
            "    accuracy                           0.66       231\n",
            "   macro avg       0.69      0.70      0.66       231\n",
            "weighted avg       0.74      0.66      0.66       231\n",
            "\n"
          ]
        }
      ]
    },
    {
      "cell_type": "code",
      "source": [
        "import matplotlib.pyplot as plt\n",
        "\n",
        "plt.figure(figsize=(12, 5))\n",
        "\n",
        "# Plot Lévy Flight\n",
        "plt.subplot(1, 2, 1)\n",
        "plt.plot(history_levy, label=\"Lévy Flight\", marker='o', color='tab:blue')\n",
        "plt.xlabel(\"Iteration\")\n",
        "plt.ylabel(\"Recall Score\")\n",
        "plt.title(\"Lévy Flight Optimization\")\n",
        "plt.grid(True)\n",
        "plt.tight_layout()\n",
        "\n",
        "# Plot Optuna\n",
        "plt.subplot(1, 2, 2)\n",
        "plt.plot(history_optuna, label=\"Optuna\", marker='x', color='tab:orange')\n",
        "plt.xlabel(\"Trial\")\n",
        "plt.ylabel(\"Recall Score\")\n",
        "plt.title(\"Optuna Optimization\")\n",
        "plt.grid(True)\n",
        "plt.tight_layout()\n",
        "\n",
        "plt.suptitle(\"Hyperparameter Tuning Performance Comparison\", fontsize=14)\n",
        "plt.tight_layout(rect=[0, 0.03, 1, 0.95])\n",
        "plt.show()"
      ],
      "metadata": {
        "colab": {
          "base_uri": "https://localhost:8080/",
          "height": 497
        },
        "id": "c-8yNNo-ph1s",
        "outputId": "98241f09-4993-4524-9594-88a9b1ba9348"
      },
      "execution_count": null,
      "outputs": [
        {
          "output_type": "display_data",
          "data": {
            "text/plain": [
              "<Figure size 1200x500 with 2 Axes>"
            ],
            "image/png": "[encoded data removed]"
          },
          "metadata": {}
        }
      ]
    },
    {
      "cell_type": "code",
      "source": [
        "from sklearn.tree import DecisionTreeClassifier\n",
        "from sklearn.metrics import confusion_matrix\n",
        "import matplotlib.pyplot as plt\n",
        "import seaborn as sns\n",
        "\n",
        "# Ambil parameter terbaik dari Optuna\n",
        "best_params = study.best_params\n",
        "\n",
        "# Buat model dengan parameter hasil tuning\n",
        "best_model = DecisionTreeClassifier(\n",
        "    max_depth=best_params['max_depth'],\n",
        "    criterion=best_params['criterion'],\n",
        "    min_samples_split=best_params['min_samples_split'],\n",
        "    min_samples_leaf=best_params['min_samples_leaf'],\n",
        "    class_weight='balanced',\n",
        "    random_state=42\n",
        ")\n",
        "\n",
        "# Fit model ke seluruh data training\n",
        "best_model.fit(X_train_resampled, y_train_resampled)\n",
        "\n",
        "# Prediksi data uji\n",
        "y_pred = best_model.predict(X_test_scaled)\n",
        "\n",
        "# Buat confusion matrix\n",
        "cm_dt = confusion_matrix(y_test, y_pred)\n",
        "\n",
        "# Plot heatmap\n",
        "plt.figure(figsize=(8, 6))\n",
        "ax = sns.heatmap(cm_dt, annot=True, fmt='d', cmap='Blues',\n",
        "                 xticklabels=['No Diabetes', 'Diabetes'],\n",
        "                 yticklabels=['No Diabetes', 'Diabetes'],\n",
        "                 cbar=False,\n",
        "                 linewidths=0,\n",
        "                 linecolor='white')\n",
        "\n",
        "plt.xlabel('Predicted')\n",
        "plt.ylabel('Actual')\n",
        "plt.title('Confusion Matrix (Decision Tree - Levy Optuna Best Model)')\n",
        "\n",
        "# Hilangkan garis tepi\n",
        "for spine in ax.spines.values():\n",
        "    spine.set_visible(False)\n",
        "\n",
        "plt.tight_layout()\n",
        "plt.show()"
      ],
      "metadata": {
        "colab": {
          "base_uri": "https://localhost:8080/",
          "height": 607
        },
        "id": "OGl2cln1pneg",
        "outputId": "fbf7fbff-f9d3-4712-d3a4-7f3a94dd07f0"
      },
      "execution_count": null,
      "outputs": [
        {
          "output_type": "display_data",
          "data": {
            "text/plain": [
              "<Figure size 800x600 with 1 Axes>"
            ],
            "image/png": "[encoded data removed]"
          },
          "metadata": {}
        }
      ]
    }
  ]
}